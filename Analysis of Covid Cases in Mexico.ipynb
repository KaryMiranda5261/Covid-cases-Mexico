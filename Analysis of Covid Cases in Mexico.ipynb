{
 "cells": [
  {
   "cell_type": "markdown",
   "id": "3cce7168-b012-4a18-ad31-a00c302b000f",
   "metadata": {},
   "source": [
    "Clasificador de casos de Covid-19\n",
    "---\n",
    "\n",
    "Fuente del dataset: https://datos.gob.mx/busca/dataset/informacion-referente-a-casos-covid-19-en-mexico"
   ]
  },
  {
   "cell_type": "code",
   "execution_count": 1,
   "id": "3af5878e-68bc-4b1c-95fa-9cdccf573186",
   "metadata": {},
   "outputs": [],
   "source": [
    "import pandas as pd\n",
    "import seaborn as sns\n",
    "import numpy as np"
   ]
  },
  {
   "cell_type": "markdown",
   "id": "667cb6fb-1880-4bb9-bddc-4dd9346d7496",
   "metadata": {},
   "source": [
    "Cargar el dataset."
   ]
  },
  {
   "cell_type": "code",
   "execution_count": 2,
   "id": "1f3b8e48-6a4c-45b2-a370-858b805730bf",
   "metadata": {},
   "outputs": [
    {
     "name": "stderr",
     "output_type": "stream",
     "text": [
      "C:\\Users\\ale_m\\AppData\\Local\\Packages\\PythonSoftwareFoundation.Python.3.10_qbz5n2kfra8p0\\LocalCache\\local-packages\\Python310\\site-packages\\IPython\\core\\interactiveshell.py:3444: DtypeWarning: Columns (38) have mixed types.Specify dtype option on import or set low_memory=False.\n",
      "  exec(code_obj, self.user_global_ns, self.user_ns)\n"
     ]
    }
   ],
   "source": [
    "df = pd.read_csv('220321COVID19MEXICO.csv')"
   ]
  },
  {
   "cell_type": "markdown",
   "id": "75496a32-eab4-4af9-b830-901c43ee8581",
   "metadata": {},
   "source": [
    "Inspeccionar las observaciones."
   ]
  },
  {
   "cell_type": "code",
   "execution_count": 3,
   "id": "428c1ccf-eb38-404b-8885-b45e432b87aa",
   "metadata": {},
   "outputs": [
    {
     "data": {
      "text/html": [
       "<div>\n",
       "<style scoped>\n",
       "    .dataframe tbody tr th:only-of-type {\n",
       "        vertical-align: middle;\n",
       "    }\n",
       "\n",
       "    .dataframe tbody tr th {\n",
       "        vertical-align: top;\n",
       "    }\n",
       "\n",
       "    .dataframe thead th {\n",
       "        text-align: right;\n",
       "    }\n",
       "</style>\n",
       "<table border=\"1\" class=\"dataframe\">\n",
       "  <thead>\n",
       "    <tr style=\"text-align: right;\">\n",
       "      <th></th>\n",
       "      <th>FECHA_ACTUALIZACION</th>\n",
       "      <th>ID_REGISTRO</th>\n",
       "      <th>ORIGEN</th>\n",
       "      <th>SECTOR</th>\n",
       "      <th>ENTIDAD_UM</th>\n",
       "      <th>SEXO</th>\n",
       "      <th>ENTIDAD_NAC</th>\n",
       "      <th>ENTIDAD_RES</th>\n",
       "      <th>MUNICIPIO_RES</th>\n",
       "      <th>TIPO_PACIENTE</th>\n",
       "      <th>...</th>\n",
       "      <th>OTRO_CASO</th>\n",
       "      <th>TOMA_MUESTRA_LAB</th>\n",
       "      <th>RESULTADO_LAB</th>\n",
       "      <th>TOMA_MUESTRA_ANTIGENO</th>\n",
       "      <th>RESULTADO_ANTIGENO</th>\n",
       "      <th>CLASIFICACION_FINAL</th>\n",
       "      <th>MIGRANTE</th>\n",
       "      <th>PAIS_NACIONALIDAD</th>\n",
       "      <th>PAIS_ORIGEN</th>\n",
       "      <th>UCI</th>\n",
       "    </tr>\n",
       "  </thead>\n",
       "  <tbody>\n",
       "    <tr>\n",
       "      <th>0</th>\n",
       "      <td>2022-03-21</td>\n",
       "      <td>z3bf80</td>\n",
       "      <td>2</td>\n",
       "      <td>12</td>\n",
       "      <td>8</td>\n",
       "      <td>2</td>\n",
       "      <td>8</td>\n",
       "      <td>8</td>\n",
       "      <td>37</td>\n",
       "      <td>1</td>\n",
       "      <td>...</td>\n",
       "      <td>2</td>\n",
       "      <td>1</td>\n",
       "      <td>1</td>\n",
       "      <td>2</td>\n",
       "      <td>97</td>\n",
       "      <td>3</td>\n",
       "      <td>99</td>\n",
       "      <td>México</td>\n",
       "      <td>97</td>\n",
       "      <td>97</td>\n",
       "    </tr>\n",
       "    <tr>\n",
       "      <th>1</th>\n",
       "      <td>2022-03-21</td>\n",
       "      <td>z1e370</td>\n",
       "      <td>1</td>\n",
       "      <td>12</td>\n",
       "      <td>14</td>\n",
       "      <td>1</td>\n",
       "      <td>14</td>\n",
       "      <td>14</td>\n",
       "      <td>85</td>\n",
       "      <td>1</td>\n",
       "      <td>...</td>\n",
       "      <td>2</td>\n",
       "      <td>1</td>\n",
       "      <td>2</td>\n",
       "      <td>2</td>\n",
       "      <td>97</td>\n",
       "      <td>7</td>\n",
       "      <td>99</td>\n",
       "      <td>México</td>\n",
       "      <td>97</td>\n",
       "      <td>97</td>\n",
       "    </tr>\n",
       "    <tr>\n",
       "      <th>2</th>\n",
       "      <td>2022-03-21</td>\n",
       "      <td>zze974</td>\n",
       "      <td>1</td>\n",
       "      <td>6</td>\n",
       "      <td>24</td>\n",
       "      <td>1</td>\n",
       "      <td>24</td>\n",
       "      <td>24</td>\n",
       "      <td>35</td>\n",
       "      <td>1</td>\n",
       "      <td>...</td>\n",
       "      <td>1</td>\n",
       "      <td>1</td>\n",
       "      <td>2</td>\n",
       "      <td>2</td>\n",
       "      <td>97</td>\n",
       "      <td>7</td>\n",
       "      <td>99</td>\n",
       "      <td>México</td>\n",
       "      <td>97</td>\n",
       "      <td>97</td>\n",
       "    </tr>\n",
       "    <tr>\n",
       "      <th>3</th>\n",
       "      <td>2022-03-21</td>\n",
       "      <td>zz7067</td>\n",
       "      <td>1</td>\n",
       "      <td>12</td>\n",
       "      <td>9</td>\n",
       "      <td>2</td>\n",
       "      <td>9</td>\n",
       "      <td>9</td>\n",
       "      <td>7</td>\n",
       "      <td>1</td>\n",
       "      <td>...</td>\n",
       "      <td>2</td>\n",
       "      <td>1</td>\n",
       "      <td>2</td>\n",
       "      <td>2</td>\n",
       "      <td>97</td>\n",
       "      <td>7</td>\n",
       "      <td>99</td>\n",
       "      <td>México</td>\n",
       "      <td>97</td>\n",
       "      <td>97</td>\n",
       "    </tr>\n",
       "    <tr>\n",
       "      <th>4</th>\n",
       "      <td>2022-03-21</td>\n",
       "      <td>z1da1e</td>\n",
       "      <td>1</td>\n",
       "      <td>12</td>\n",
       "      <td>1</td>\n",
       "      <td>2</td>\n",
       "      <td>1</td>\n",
       "      <td>1</td>\n",
       "      <td>1</td>\n",
       "      <td>1</td>\n",
       "      <td>...</td>\n",
       "      <td>1</td>\n",
       "      <td>1</td>\n",
       "      <td>2</td>\n",
       "      <td>2</td>\n",
       "      <td>97</td>\n",
       "      <td>7</td>\n",
       "      <td>99</td>\n",
       "      <td>México</td>\n",
       "      <td>97</td>\n",
       "      <td>97</td>\n",
       "    </tr>\n",
       "  </tbody>\n",
       "</table>\n",
       "<p>5 rows × 40 columns</p>\n",
       "</div>"
      ],
      "text/plain": [
       "  FECHA_ACTUALIZACION ID_REGISTRO  ORIGEN  SECTOR  ENTIDAD_UM  SEXO  \\\n",
       "0          2022-03-21      z3bf80       2      12           8     2   \n",
       "1          2022-03-21      z1e370       1      12          14     1   \n",
       "2          2022-03-21      zze974       1       6          24     1   \n",
       "3          2022-03-21      zz7067       1      12           9     2   \n",
       "4          2022-03-21      z1da1e       1      12           1     2   \n",
       "\n",
       "   ENTIDAD_NAC  ENTIDAD_RES  MUNICIPIO_RES  TIPO_PACIENTE  ... OTRO_CASO  \\\n",
       "0            8            8             37              1  ...         2   \n",
       "1           14           14             85              1  ...         2   \n",
       "2           24           24             35              1  ...         1   \n",
       "3            9            9              7              1  ...         2   \n",
       "4            1            1              1              1  ...         1   \n",
       "\n",
       "  TOMA_MUESTRA_LAB RESULTADO_LAB  TOMA_MUESTRA_ANTIGENO  RESULTADO_ANTIGENO  \\\n",
       "0                1             1                      2                  97   \n",
       "1                1             2                      2                  97   \n",
       "2                1             2                      2                  97   \n",
       "3                1             2                      2                  97   \n",
       "4                1             2                      2                  97   \n",
       "\n",
       "   CLASIFICACION_FINAL  MIGRANTE  PAIS_NACIONALIDAD  PAIS_ORIGEN  UCI  \n",
       "0                    3        99             México           97   97  \n",
       "1                    7        99             México           97   97  \n",
       "2                    7        99             México           97   97  \n",
       "3                    7        99             México           97   97  \n",
       "4                    7        99             México           97   97  \n",
       "\n",
       "[5 rows x 40 columns]"
      ]
     },
     "execution_count": 3,
     "metadata": {},
     "output_type": "execute_result"
    }
   ],
   "source": [
    "df.head()"
   ]
  },
  {
   "cell_type": "markdown",
   "id": "3763b02a-ce22-4db3-beaa-635f40938863",
   "metadata": {},
   "source": [
    "Verificar si hay valores faltantes.\n",
    "\n",
    "Se observa que no hay, así que no es necesario imputar valores."
   ]
  },
  {
   "cell_type": "code",
   "execution_count": 4,
   "id": "230966c8-3adf-4139-9ae9-259f42d17ede",
   "metadata": {},
   "outputs": [
    {
     "data": {
      "text/plain": [
       "FECHA_ACTUALIZACION      0\n",
       "ID_REGISTRO              0\n",
       "ORIGEN                   0\n",
       "SECTOR                   0\n",
       "ENTIDAD_UM               0\n",
       "SEXO                     0\n",
       "ENTIDAD_NAC              0\n",
       "ENTIDAD_RES              0\n",
       "MUNICIPIO_RES            0\n",
       "TIPO_PACIENTE            0\n",
       "FECHA_INGRESO            0\n",
       "FECHA_SINTOMAS           0\n",
       "FECHA_DEF                0\n",
       "INTUBADO                 0\n",
       "NEUMONIA                 0\n",
       "EDAD                     0\n",
       "NACIONALIDAD             0\n",
       "EMBARAZO                 0\n",
       "HABLA_LENGUA_INDIG       0\n",
       "INDIGENA                 0\n",
       "DIABETES                 0\n",
       "EPOC                     0\n",
       "ASMA                     0\n",
       "INMUSUPR                 0\n",
       "HIPERTENSION             0\n",
       "OTRA_COM                 0\n",
       "CARDIOVASCULAR           0\n",
       "OBESIDAD                 0\n",
       "RENAL_CRONICA            0\n",
       "TABAQUISMO               0\n",
       "OTRO_CASO                0\n",
       "TOMA_MUESTRA_LAB         0\n",
       "RESULTADO_LAB            0\n",
       "TOMA_MUESTRA_ANTIGENO    0\n",
       "RESULTADO_ANTIGENO       0\n",
       "CLASIFICACION_FINAL      0\n",
       "MIGRANTE                 0\n",
       "PAIS_NACIONALIDAD        0\n",
       "PAIS_ORIGEN              0\n",
       "UCI                      0\n",
       "dtype: int64"
      ]
     },
     "execution_count": 4,
     "metadata": {},
     "output_type": "execute_result"
    }
   ],
   "source": [
    "df.isna().sum()"
   ]
  },
  {
   "cell_type": "markdown",
   "id": "1c81f3ae-17d8-4de5-856b-ed83799b285b",
   "metadata": {},
   "source": [
    "Gráfica que la distribución de las clasificaciones de casos de covid.\n",
    "\n",
    "1. Caso de Covid confirmado por asociación clínica epidemiológica.\n",
    "2. Caso de Covid confirmado por comité de dictaminación.\n",
    "3. Caso de Sars-Cov-2 Confirmado.\n",
    "4. Inválido por laboratorio.\n",
    "5. No realizado por laboratorio.\n",
    "6. Caso sospechoso.\n",
    "7. Negativo a Sars-Cov-2.\n",
    "\n",
    "Las observaciones que nos interesan son las que se clasifican como **Caso de Sars-Cov-2 Confirmado. (3)** y **Negativo a Sars-Cov-2 (7)**,\n",
    "pues para confirmar los pacientes pasaron por pruebas de laboratorio o antígenos.\n"
   ]
  },
  {
   "cell_type": "code",
   "execution_count": 23,
   "id": "82254278-694a-417a-b0f9-5a6e434db33f",
   "metadata": {},
   "outputs": [
    {
     "data": {
      "text/plain": [
       "<AxesSubplot:xlabel='CLASIFICACION_FINAL'>"
      ]
     },
     "execution_count": 23,
     "metadata": {},
     "output_type": "execute_result"
    },
    {
     "data": {
      "image/png": "[encoded data removed]",
      "text/plain": [
       "<Figure size 432x288 with 1 Axes>"
      ]
     },
     "metadata": {
      "needs_background": "light"
     },
     "output_type": "display_data"
    }
   ],
   "source": [
    "sns.barplot(x = 'CLASIFICACION_FINAL', y = np.ones(df.shape[0]), data = df, estimator = np.sum)"
   ]
  },
  {
   "cell_type": "markdown",
   "id": "ab122186-f4b6-41e5-96a7-eb44192319b0",
   "metadata": {},
   "source": [
    "Muestreo de 1000 observaciones"
   ]
  },
  {
   "cell_type": "code",
   "execution_count": 7,
   "id": "a01cd2e5-f38b-4498-9141-127e706367d8",
   "metadata": {},
   "outputs": [],
   "source": [
    "sample_df = df.sample(n = 1000)"
   ]
  },
  {
   "cell_type": "code",
   "execution_count": 13,
   "id": "03584b0c-bc98-49c2-97d6-582d64215e77",
   "metadata": {},
   "outputs": [
    {
     "data": {
      "text/plain": [
       "count    1000.000000\n",
       "mean        5.433000\n",
       "std         1.968092\n",
       "min         1.000000\n",
       "25%         3.000000\n",
       "50%         7.000000\n",
       "75%         7.000000\n",
       "max         7.000000\n",
       "Name: CLASIFICACION_FINAL, dtype: float64"
      ]
     },
     "execution_count": 13,
     "metadata": {},
     "output_type": "execute_result"
    }
   ],
   "source": [
    "sample_df['CLASIFICACION_FINAL'].describe()"
   ]
  },
  {
   "cell_type": "code",
   "execution_count": 20,
   "id": "90952faa-3e60-4903-bde1-9977f48e3580",
   "metadata": {},
   "outputs": [
    {
     "data": {
      "text/plain": [
       "<AxesSubplot:xlabel='CLASIFICACION_FINAL'>"
      ]
     },
     "execution_count": 20,
     "metadata": {},
     "output_type": "execute_result"
    },
    {
     "data": {
      "image/png": "[encoded data removed]",
      "text/plain": [
       "<Figure size 432x288 with 1 Axes>"
      ]
     },
     "metadata": {
      "needs_background": "light"
     },
     "output_type": "display_data"
    }
   ],
   "source": [
    "sns.barplot(x = 'CLASIFICACION_FINAL', y = np.ones(1000), data = sample_df, estimator = np.sum)"
   ]
  },
  {
   "cell_type": "code",
   "execution_count": 24,
   "id": "ebf8e9bf-f6bf-47a9-b505-2711a06b183b",
   "metadata": {},
   "outputs": [],
   "source": [
    "sample_df.to_csv('sample_of_covid_cases.csv')"
   ]
  },
  {
   "cell_type": "code",
   "execution_count": 6,
   "id": "64bd0dc7-e02f-4342-a149-c996dceb3031",
   "metadata": {},
   "outputs": [],
   "source": [
    "sample_df = pd.read_csv('sample_of_covid_cases.csv')"
   ]
  },
  {
   "cell_type": "markdown",
   "id": "6afece88-0555-44ba-bf48-0828d7b42458",
   "metadata": {},
   "source": [
    "# Preprocesado\n",
    "\n",
    "Filtrar por Sector. Excluir las no especificadas = 99\n",
    "\n",
    "Variables a usar:\n",
    "\n",
    "- SEXO\n",
    "- TIPO_PACIENTE\n",
    "- INTUBADO\n",
    "- NEUMONIA\n",
    "- EDAD\n",
    "- NACIONALIDAD\n",
    "- EMBARAZO\n",
    "- DIABETES\n",
    "- EPOC\n",
    "- ASMA\n",
    "- INMUSUPR\n",
    "- HIPERTENCION\n",
    "- OTRAS_COM\n",
    "- CARDIOVASCULAR\n",
    "- OBESIDAD\n",
    "- RENAL_CRONICA\n",
    "- TABAQUISMO\n",
    "- OTRO_CASO\n",
    "- MIGRANTE\n",
    "- UCI"
   ]
  },
  {
   "cell_type": "markdown",
   "id": "045b6c6c-00ee-413c-b2c6-b4095a41f85e",
   "metadata": {},
   "source": [
    "## Filtrar observaciones"
   ]
  },
  {
   "cell_type": "code",
   "execution_count": 82,
   "id": "44735d54-ff83-4b53-b75b-42d2a00cfee3",
   "metadata": {},
   "outputs": [
    {
     "data": {
      "text/plain": [
       "(15453417, 40)"
      ]
     },
     "execution_count": 82,
     "metadata": {},
     "output_type": "execute_result"
    }
   ],
   "source": [
    "prep_df = df[ df['SECTOR'] != 99 ]\n",
    "prep_df.shape"
   ]
  },
  {
   "cell_type": "code",
   "execution_count": 83,
   "id": "dd06daf2-56e5-42bf-83f4-cfa740b253a6",
   "metadata": {},
   "outputs": [
    {
     "name": "stdout",
     "output_type": "stream",
     "text": [
      "<class 'pandas.core.frame.DataFrame'>\n",
      "Int64Index: 15453417 entries, 0 to 15453957\n",
      "Data columns (total 21 columns):\n",
      " #   Column               Dtype\n",
      "---  ------               -----\n",
      " 0   SEXO                 int64\n",
      " 1   TIPO_PACIENTE        int64\n",
      " 2   INTUBADO             int64\n",
      " 3   NEUMONIA             int64\n",
      " 4   EDAD                 int64\n",
      " 5   NACIONALIDAD         int64\n",
      " 6   EMBARAZO             int64\n",
      " 7   DIABETES             int64\n",
      " 8   EPOC                 int64\n",
      " 9   ASMA                 int64\n",
      " 10  INMUSUPR             int64\n",
      " 11  HIPERTENSION         int64\n",
      " 12  OTRA_COM             int64\n",
      " 13  CARDIOVASCULAR       int64\n",
      " 14  OBESIDAD             int64\n",
      " 15  RENAL_CRONICA        int64\n",
      " 16  TABAQUISMO           int64\n",
      " 17  OTRO_CASO            int64\n",
      " 18  MIGRANTE             int64\n",
      " 19  UCI                  int64\n",
      " 20  CLASIFICACION_FINAL  int64\n",
      "dtypes: int64(21)\n",
      "memory usage: 2.5 GB\n"
     ]
    }
   ],
   "source": [
    "predict = ['SEXO', 'TIPO_PACIENTE', 'INTUBADO', 'NEUMONIA', 'EDAD', 'NACIONALIDAD', 'EMBARAZO', 'DIABETES', 'EPOC', 'ASMA', 'INMUSUPR', 'HIPERTENSION', 'OTRA_COM', 'CARDIOVASCULAR', 'OBESIDAD', 'RENAL_CRONICA', 'TABAQUISMO', 'OTRO_CASO', 'MIGRANTE', 'UCI', 'CLASIFICACION_FINAL']\n",
    "prep_df = prep_df[ predict ] \n",
    "prep_df.info()"
   ]
  },
  {
   "cell_type": "markdown",
   "id": "fde0ed5b-cb5b-41f2-b753-a4715dcdfc35",
   "metadata": {},
   "source": [
    "# Estraer los casos positivos y negativos"
   ]
  },
  {
   "cell_type": "markdown",
   "id": "720c799c-bad3-423d-a99c-af0c54ece60f",
   "metadata": {},
   "source": [
    "Aislar casos positivos y negativos."
   ]
  },
  {
   "cell_type": "code",
   "execution_count": 84,
   "id": "57660eab-e1da-4ee4-9ee4-ada4412ba0b9",
   "metadata": {},
   "outputs": [
    {
     "name": "stdout",
     "output_type": "stream",
     "text": [
      "(5322853, 21)\n",
      "(9141020, 21)\n"
     ]
    }
   ],
   "source": [
    "set_positive_cases = prep_df[ prep_df['CLASIFICACION_FINAL'] == 3 ]\n",
    "set_negative_cases = prep_df[ prep_df['CLASIFICACION_FINAL'] == 7 ]\n",
    "\n",
    "print(set_positive_cases.shape)\n",
    "print(set_negative_cases.shape)"
   ]
  },
  {
   "cell_type": "markdown",
   "id": "83a6ce55-35c3-4f7a-9291-879a1c544e2e",
   "metadata": {},
   "source": [
    "Reasignarles valores para positivo (1) y negativo (0)."
   ]
  },
  {
   "cell_type": "code",
   "execution_count": 85,
   "id": "2d881ba8-6237-4a2d-b3d1-4608e780c7ab",
   "metadata": {},
   "outputs": [],
   "source": [
    "set_positive_cases[:]['CLASIFICACION_FINAL'] = 1\n",
    "set_negative_cases[:]['CLASIFICACION_FINAL'] = 0"
   ]
  },
  {
   "cell_type": "code",
   "execution_count": 86,
   "id": "8f17ac25-dae5-40b3-91f9-8d838ff44a68",
   "metadata": {},
   "outputs": [
    {
     "data": {
      "text/plain": [
       "0     1\n",
       "14    1\n",
       "17    1\n",
       "19    1\n",
       "22    1\n",
       "Name: CLASIFICACION_FINAL, dtype: int64"
      ]
     },
     "execution_count": 86,
     "metadata": {},
     "output_type": "execute_result"
    }
   ],
   "source": [
    "set_positive_cases['CLASIFICACION_FINAL'].head()"
   ]
  },
  {
   "cell_type": "code",
   "execution_count": 87,
   "id": "0f4fb5d4-d905-4f70-8433-52bdc8bfe612",
   "metadata": {},
   "outputs": [
    {
     "data": {
      "text/plain": [
       "1    0\n",
       "2    0\n",
       "3    0\n",
       "4    0\n",
       "5    0\n",
       "Name: CLASIFICACION_FINAL, dtype: int64"
      ]
     },
     "execution_count": 87,
     "metadata": {},
     "output_type": "execute_result"
    }
   ],
   "source": [
    "set_negative_cases['CLASIFICACION_FINAL'].head()"
   ]
  },
  {
   "cell_type": "markdown",
   "id": "b33c6657-05ea-4881-b188-fddb5e066765",
   "metadata": {},
   "source": [
    "Combinar todos los casos positivos y negativos en un solo dataframe."
   ]
  },
  {
   "cell_type": "code",
   "execution_count": 88,
   "id": "ac7dae06-7140-42a1-8237-027bf00aa22f",
   "metadata": {},
   "outputs": [],
   "source": [
    "pos_neg_set = pd.concat([set_positive_cases, set_negative_cases])"
   ]
  },
  {
   "cell_type": "markdown",
   "id": "7b55f9d4-1cfb-4fbd-85eb-832fce2582b7",
   "metadata": {},
   "source": [
    "# Valancear clases"
   ]
  },
  {
   "cell_type": "code",
   "execution_count": 89,
   "id": "bd4b25c6-b592-4873-9f03-5a411724a3b2",
   "metadata": {},
   "outputs": [
    {
     "name": "stdout",
     "output_type": "stream",
     "text": [
      "(500000, 21)\n",
      "(500000, 21)\n"
     ]
    }
   ],
   "source": [
    "sample_positive_cases = set_positive_cases.sample(n = 500000)\n",
    "sample_negative_cases = set_negative_cases.sample(n = 500000)\n",
    "\n",
    "print(sample_positive_cases.shape)\n",
    "print(sample_negative_cases.shape)"
   ]
  },
  {
   "cell_type": "code",
   "execution_count": 90,
   "id": "1eb67519-61f6-424e-8a42-cb5b82a076bf",
   "metadata": {},
   "outputs": [
    {
     "name": "stdout",
     "output_type": "stream",
     "text": [
      "(1000000, 21)\n"
     ]
    }
   ],
   "source": [
    "valanced_sample = pd.concat([sample_positive_cases, sample_negative_cases])\n",
    "print(valanced_sample.shape)"
   ]
  },
  {
   "cell_type": "markdown",
   "id": "3a9439b8-7045-467f-b4b9-adc873b4d36f",
   "metadata": {},
   "source": [
    "Guardar la muestra en un CSV."
   ]
  },
  {
   "cell_type": "code",
   "execution_count": 52,
   "id": "72a0c0a1-c271-413a-8522-2e6139b68476",
   "metadata": {},
   "outputs": [],
   "source": [
    "valanced_sample.to_csv('valanced_sample.csv')"
   ]
  },
  {
   "cell_type": "markdown",
   "id": "dfe5f3e5-7c10-457b-bedc-4170bfd1fad4",
   "metadata": {},
   "source": [
    "# Separar conjunto de prueba y de entrenamiento"
   ]
  },
  {
   "cell_type": "code",
   "execution_count": 14,
   "id": "2f308383-bbf9-49e6-a863-2d0875e74875",
   "metadata": {},
   "outputs": [],
   "source": [
    "from sklearn.model_selection import train_test_split"
   ]
  },
  {
   "cell_type": "code",
   "execution_count": 91,
   "id": "c11ce3aa-25ac-47ce-ae6b-c04c1a062619",
   "metadata": {},
   "outputs": [
    {
     "name": "stdout",
     "output_type": "stream",
     "text": [
      "(700000, 20)\n",
      "(300000, 20)\n",
      "(700000,)\n",
      "(300000,)\n"
     ]
    }
   ],
   "source": [
    "y = valanced_sample.pop('CLASIFICACION_FINAL')\n",
    "X = valanced_sample\n",
    "\n",
    "X_train, X_test, y_train, y_test = train_test_split(X, y, test_size = 0.3)\n",
    "\n",
    "print(X_train.shape)\n",
    "print(X_test.shape)\n",
    "\n",
    "print(y_train.shape)\n",
    "print(y_test.shape)"
   ]
  },
  {
   "cell_type": "markdown",
   "id": "934c74d0-78bc-4df5-a92a-9b21f6de341d",
   "metadata": {},
   "source": [
    "# Modelado"
   ]
  },
  {
   "cell_type": "markdown",
   "id": "e2ddf3d0-a978-47a4-9b5b-77523fb774d8",
   "metadata": {},
   "source": [
    "## Redes Neuronales"
   ]
  },
  {
   "cell_type": "markdown",
   "id": "0dddb4ca-956c-4af9-97c7-8b1bc112cf73",
   "metadata": {},
   "source": [
    "Se usará una red neuronal y se probarán diferentes parámetros para tratar de encontrar el mejor resultado."
   ]
  },
  {
   "cell_type": "code",
   "execution_count": 35,
   "id": "7bddd743-db63-4778-983d-ccef8e4bf4b1",
   "metadata": {},
   "outputs": [
    {
     "name": "stdout",
     "output_type": "stream",
     "text": [
      "Model: \"sequential_9\"\n",
      "_________________________________________________________________\n",
      " Layer (type)                Output Shape              Param #   \n",
      "=================================================================\n",
      " dense_36 (Dense)            (None, 8)                 168       \n",
      "                                                                 \n",
      " dense_37 (Dense)            (None, 4)                 36        \n",
      "                                                                 \n",
      " dense_38 (Dense)            (None, 2)                 10        \n",
      "                                                                 \n",
      " dense_39 (Dense)            (None, 1)                 3         \n",
      "                                                                 \n",
      "=================================================================\n",
      "Total params: 217\n",
      "Trainable params: 217\n",
      "Non-trainable params: 0\n",
      "_________________________________________________________________\n"
     ]
    }
   ],
   "source": [
    "from sklearn.model_selection import RandomizedSearchCV\n",
    "from keras.models import Sequential\n",
    "from keras.layers import Dense\n",
    "\n",
    "model = Sequential()\n",
    "model.add(Dense(8, input_shape=(20,), activation='relu'))\n",
    "model.add(Dense(4, activation='relu'))\n",
    "model.add(Dense(2, activation='relu'))\n",
    "model.add(Dense(1, activation='sigmoid'))\n",
    "model.compile(optimizer='adam', loss='binary_crossentropy', metrics=['accuracy'])\n",
    "\n",
    "model.fit(X_train, y_train, epochs=35, verbose = 0)\n",
    "model.summary()"
   ]
  },
  {
   "cell_type": "markdown",
   "id": "2d7cdc30-ed52-4fe9-af7d-d8fdbd543a77",
   "metadata": {},
   "source": [
    "Se guardarán los valores de los parámetros de la red en el disco para un uso posterior."
   ]
  },
  {
   "cell_type": "code",
   "execution_count": 45,
   "id": "1ddf2c60-dc8f-4a92-813b-8a93ae01e72d",
   "metadata": {},
   "outputs": [
    {
     "name": "stdout",
     "output_type": "stream",
     "text": [
      "INFO:tensorflow:Assets written to: neural_network.bin\\assets\n"
     ]
    },
    {
     "name": "stderr",
     "output_type": "stream",
     "text": [
      "INFO:tensorflow:Assets written to: neural_network.bin\\assets\n"
     ]
    }
   ],
   "source": [
    "# Gaurda los valores de los parámetros de la red.\n",
    "model.save('neural_network')"
   ]
  },
  {
   "cell_type": "code",
   "execution_count": null,
   "id": "9ae6091d-bff2-4601-a6b6-77207cb1e6db",
   "metadata": {},
   "outputs": [],
   "source": [
    "# Cargar la red neuronal.\n",
    "# Sólo usar si ya se ha guardado una red neuronal previamente.\n",
    "from keras.models import load_model\n",
    "model = load_model('neural_network')\n",
    "model.summary()"
   ]
  },
  {
   "cell_type": "markdown",
   "id": "2ebd8c7e-7b56-4e5f-9771-b689f91f4da3",
   "metadata": {},
   "source": [
    "Evaluación del modelo."
   ]
  },
  {
   "cell_type": "code",
   "execution_count": 41,
   "id": "d89fe02b-ce18-4e59-a52c-2499830d6d7a",
   "metadata": {},
   "outputs": [
    {
     "name": "stdout",
     "output_type": "stream",
     "text": [
      "9375/9375 [==============================] - 19s 2ms/step - loss: 0.6806 - accuracy: 0.5372\n"
     ]
    }
   ],
   "source": [
    "nnet_metrics = model.evaluate(X_test, y_test)"
   ]
  },
  {
   "cell_type": "code",
   "execution_count": 42,
   "id": "39e19df5-e5af-41c2-b2d3-d0ffb42d33f0",
   "metadata": {},
   "outputs": [
    {
     "name": "stdout",
     "output_type": "stream",
     "text": [
      "Métricas:\n",
      "loss: 0.6805607080459595\n",
      "accuracy: 0.5372400283813477\n"
     ]
    }
   ],
   "source": [
    "print('Métricas de la red neuronal:')\n",
    "for i in range( len(model.metrics_names ) ):\n",
    "    print('{}: {}'.format(model.metrics_names[i], nnet_metrics[i]))"
   ]
  },
  {
   "cell_type": "markdown",
   "id": "25431b6a-33fc-4fe4-b420-88bfe223246e",
   "metadata": {},
   "source": [
    "Predecir un caso:"
   ]
  },
  {
   "cell_type": "code",
   "execution_count": 70,
   "id": "703cf5ba-079f-4101-9b5e-26292f41b8d8",
   "metadata": {},
   "outputs": [
    {
     "name": "stdout",
     "output_type": "stream",
     "text": [
      "         SEXO  TIPO_PACIENTE  INTUBADO  NEUMONIA  EDAD  NACIONALIDAD  \\\n",
      "7961899     1              1        97         2    37             1   \n",
      "\n",
      "         EMBARAZO  DIABETES  EPOC  ASMA  INMUSUPR  HIPERTENSION  OTRA_COM  \\\n",
      "7961899         2         2     2     2         2             2         2   \n",
      "\n",
      "         CARDIOVASCULAR  OBESIDAD  RENAL_CRONICA  TABAQUISMO  OTRO_CASO  \\\n",
      "7961899               2         2              2           2          2   \n",
      "\n",
      "         MIGRANTE  UCI  \n",
      "7961899        99   97  \n",
      "Clasification: 0\n"
     ]
    }
   ],
   "source": [
    "samp = pos_neg_set.sample()\n",
    "actual_class = int(samp.pop('CLASIFICACION_FINAL'))\n",
    "print(samp)\n",
    "print('Clasification:', actual_class)"
   ]
  },
  {
   "cell_type": "code",
   "execution_count": 92,
   "id": "9756b841-edbe-46a2-bf44-b9327ec946ec",
   "metadata": {},
   "outputs": [
    {
     "name": "stdout",
     "output_type": "stream",
     "text": [
      "Probability predicted: [[0.48030823]]\n",
      "Class predicted: 0\n"
     ]
    }
   ],
   "source": [
    "pred_proba = model.predict(samp)\n",
    "pred = int( pred_proba > 0.5 )\n",
    "print('Probability predicted:', pred_proba)\n",
    "print('Class predicted:', pred)"
   ]
  },
  {
   "cell_type": "markdown",
   "id": "715f3631-05d0-402d-a6b5-e17c473bb5c2",
   "metadata": {},
   "source": [
    "## Regresión logística"
   ]
  },
  {
   "cell_type": "code",
   "execution_count": 43,
   "id": "56e01e35-fe55-4621-8eb1-212faec861fd",
   "metadata": {},
   "outputs": [
    {
     "name": "stderr",
     "output_type": "stream",
     "text": [
      "C:\\Users\\ale_m\\AppData\\Local\\Packages\\PythonSoftwareFoundation.Python.3.10_qbz5n2kfra8p0\\LocalCache\\local-packages\\Python310\\site-packages\\sklearn\\linear_model\\_logistic.py:814: ConvergenceWarning: lbfgs failed to converge (status=1):\n",
      "STOP: TOTAL NO. of ITERATIONS REACHED LIMIT.\n",
      "\n",
      "Increase the number of iterations (max_iter) or scale the data as shown in:\n",
      "    https://scikit-learn.org/stable/modules/preprocessing.html\n",
      "Please also refer to the documentation for alternative solver options:\n",
      "    https://scikit-learn.org/stable/modules/linear_model.html#logistic-regression\n",
      "  n_iter_i = _check_optimize_result(\n"
     ]
    },
    {
     "data": {
      "text/plain": [
       "LogisticRegression()"
      ]
     },
     "execution_count": 43,
     "metadata": {},
     "output_type": "execute_result"
    }
   ],
   "source": [
    "from sklearn.linear_model import LogisticRegression\n",
    "\n",
    "logreg = LogisticRegression()\n",
    "logreg.fit(X_train, y_train)"
   ]
  },
  {
   "cell_type": "code",
   "execution_count": 44,
   "id": "34083c15-3717-491f-8da4-9d692bbd2ebd",
   "metadata": {},
   "outputs": [
    {
     "name": "stdout",
     "output_type": "stream",
     "text": [
      "Accuracy:0.53236\n"
     ]
    }
   ],
   "source": [
    "print('Accuracy:', end='')\n",
    "print(logreg.score(X_test, y_test))"
   ]
  },
  {
   "cell_type": "code",
   "execution_count": 81,
   "id": "fb668a17-87c4-484d-bc9d-d0b27882ea91",
   "metadata": {},
   "outputs": [
    {
     "name": "stdout",
     "output_type": "stream",
     "text": [
      "Classes: [0 1]\n",
      "Probability predicted: [[0.52757436 0.47242564]]\n",
      "Class predicted: [0]\n"
     ]
    }
   ],
   "source": [
    "pred = logreg.predict(samp)\n",
    "pred_proba = logreg.predict_proba(samp)\n",
    "print('Classes:', logreg.classes_)\n",
    "print('Probability predicted:', pred_proba)\n",
    "print('Class predicted:', pred)"
   ]
  }
 ],
 "metadata": {
  "kernelspec": {
   "display_name": "Python 3 (ipykernel)",
   "language": "python",
   "name": "python3"
  },
  "language_info": {
   "codemirror_mode": {
    "name": "ipython",
    "version": 3
   },
   "file_extension": ".py",
   "mimetype": "text/x-python",
   "name": "python",
   "nbconvert_exporter": "python",
   "pygments_lexer": "ipython3",
   "version": "3.10.4"
  }
 },
 "nbformat": 4,
 "nbformat_minor": 5
}
